{
 "cells": [
  {
   "cell_type": "code",
   "execution_count": 1,
   "id": "a911f5c5",
   "metadata": {},
   "outputs": [],
   "source": [
    "reset -f"
   ]
  },
  {
   "cell_type": "code",
   "execution_count": 4,
   "id": "7690b50e",
   "metadata": {},
   "outputs": [],
   "source": [
    "import sympy as sp\n",
    "import numpy as np\n",
    "import matplotlib.pyplot as plt\n",
    "\n",
    "from IPython.display import Math, Latex"
   ]
  },
  {
   "cell_type": "code",
   "execution_count": 26,
   "id": "5ef602c6",
   "metadata": {},
   "outputs": [],
   "source": [
    "# Definition of Symbols and Function\n",
    "t, g = sp.symbols('t, g', real = 'True')\n",
    "L1, m1, J1, a1, b1, = sp.symbols('L1, m1, J1, a1, b1', real = 'True')\n",
    "L2, m2, J2, a2, b2, = sp.symbols('L2, m2, J2, a2, b2', real = 'True')\n",
    "L3, m3, J3, a3, b3, = sp.symbols('L3, m3, J3, a3, b3', real = 'True')\n",
    "phi1 = sp.Function('\\phi1')\n",
    "phi2 = sp.Function('\\phi2')\n",
    "phi3 = sp.Function('\\phi3')\n",
    "phi4 = sp.Function('\\phi4')\n"
   ]
  },
  {
   "cell_type": "code",
   "execution_count": 63,
   "id": "e4111348",
   "metadata": {},
   "outputs": [],
   "source": [
    "# Position Vectors: r1, r2, r3, r4\n",
    "from sympy.vector import CoordSys3D\n",
    "C = CoordSys3D('C')\n",
    "\n",
    "## Position Vector of the 1st Bar: r1\n",
    "r1 = sp.cos(phi1(t))*L1/2*C.i + sp.cos(phi1(t))*L1/2*C.j + 0*C.k\n",
    "## Velociy Vector of th 1st Bar: dr1/dt\n",
    "dr1 = sp.diff(r1.components[C.i],t)*C.i + sp.diff(r1.components[C.j],t)*C.j + 0*C.k\n",
    "## L³-Norm / Euclidean Norm of dr1/dt\n",
    "absdr1 = sp.sqrt(dr1.dot(dr1))\n",
    "\n",
    "## Position Vector of the 2nd Bar: r2\n",
    "r2 = (sp.cos(phi1(t))*L1+sp.cos(phi2(t))*L2/2)*C.i + (sp.cos(phi1(t))*L1+sp.cos(phi2(t))*L2/2)*C.j + 0*C.k\n",
    "## Velociy Vector of th 2nd Bar: dr2/dt\n",
    "dr2 = sp.diff(r2.components[C.i],t)*C.i + sp.diff(r2.components[C.j],t)*C.j + 0*C.k\n",
    "## L³-Norm / Euclidean Norm of dr2/dt\n",
    "absdr2 = sp.sqrt(dr2.dot(dr2))\n",
    "\n",
    "## Position Vector of the 3rd Bar: r3\n",
    "r3 = (sp.cos(phi1(t))*L1+sp.cos(phi2(t))*L2+sp.cos(phi3(t))*L3/2)*C.i + (sp.sin(phi1(t))*L1+sp.sin(phi2(t))*L2+sp.sin(phi3(t))*L3/2)*C.j + 0*C.k\n",
    "## Velociy Vector of th 3rd Bar: dr3/dt\n",
    "dr3 = sp.diff(r3.components[C.i],t)*C.i + sp.diff(r3.components[C.j],t)*C.j + 0*C.k\n",
    "## L³-Norm / Euclidean Norm of dr3/dt\n",
    "absdr3 = sp.sqrt(dr3.dot(dr3))"
   ]
  },
  {
   "cell_type": "code",
   "execution_count": 69,
   "id": "1a02ae64",
   "metadata": {},
   "outputs": [],
   "source": [
    "# Kinetic Energy\n",
    "\n",
    "## Translation Energy\n",
    "T_trans1 = m1/2*absdr1**2\n",
    "T_trans2 = m2/2*absdr2**2\n",
    "T_trans3 = m3/2*absdr3**2\n",
    "\n",
    "## Rotational Energy\n",
    "T_rot1 = J1/2*sp.diff(phi1(t),t)**2\n",
    "T_rot2 = J2/2*sp.diff(phi2(t),t)**2\n",
    "T_rot3 = J3/2*sp.diff(phi3(t),t)**2\n",
    "\n",
    "T = T_trans1 + T_trans2 + T_trans3 + T_rot1 + T_rot2 + T_rot3 "
   ]
  },
  {
   "cell_type": "code",
   "execution_count": 73,
   "id": "08d84752",
   "metadata": {},
   "outputs": [],
   "source": [
    "# Potential Energy\n",
    "\n",
    "U1 = m1*g*r1.components[C.j]\n",
    "U2 = m2*g*r2.components[C.j]\n",
    "U3 = m3*g*r3.components[C.j]\n",
    "\n",
    "U = U1 + U2 + U3"
   ]
  },
  {
   "cell_type": "code",
   "execution_count": 74,
   "id": "e71c949b",
   "metadata": {},
   "outputs": [],
   "source": [
    "# Holonomic Constrations\n",
    "x10 = 0\n",
    "y10 = 0\n",
    "xL3 = L\n",
    "yL3 = 0"
   ]
  },
  {
   "cell_type": "code",
   "execution_count": 71,
   "id": "3e977878",
   "metadata": {},
   "outputs": [],
   "source": [
    "L = T - U"
   ]
  },
  {
   "cell_type": "code",
   "execution_count": 57,
   "id": "ebd125bd",
   "metadata": {},
   "outputs": [
    {
     "data": {
      "text/latex": [
       "$\\displaystyle \\frac{L_{1} \\cos{\\left(\\phi1{\\left(t \\right)} \\right)}}{2}$"
      ],
      "text/plain": [
       "L1*cos(\\phi1(t))/2"
      ]
     },
     "execution_count": 57,
     "metadata": {},
     "output_type": "execute_result"
    }
   ],
   "source": []
  },
  {
   "cell_type": "code",
   "execution_count": null,
   "id": "e9d9c1c8",
   "metadata": {},
   "outputs": [],
   "source": []
  }
 ],
 "metadata": {
  "kernelspec": {
   "display_name": "Python 3 (ipykernel)",
   "language": "python",
   "name": "python3"
  },
  "language_info": {
   "codemirror_mode": {
    "name": "ipython",
    "version": 3
   },
   "file_extension": ".py",
   "mimetype": "text/x-python",
   "name": "python",
   "nbconvert_exporter": "python",
   "pygments_lexer": "ipython3",
   "version": "3.10.2"
  }
 },
 "nbformat": 4,
 "nbformat_minor": 5
}
